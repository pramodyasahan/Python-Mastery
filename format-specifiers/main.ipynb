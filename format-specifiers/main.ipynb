{
 "cells": [
  {
   "cell_type": "code",
   "id": "initial_id",
   "metadata": {
    "collapsed": true,
    "ExecuteTime": {
     "end_time": "2025-02-22T11:54:57.100418Z",
     "start_time": "2025-02-22T11:54:57.098434Z"
    }
   },
   "source": [
    "price1 = 3234.657456\n",
    "price2 = -9764.4658\n",
    "price3 = 67.223"
   ],
   "outputs": [],
   "execution_count": 23
  },
  {
   "metadata": {
    "ExecuteTime": {
     "end_time": "2025-02-22T11:54:57.458028Z",
     "start_time": "2025-02-22T11:54:57.455544Z"
    }
   },
   "cell_type": "code",
   "source": [
    "print(f\"Price 01 is {price1:.2f}\")\n",
    "print(f\"Price 02 is {price2:.3f}\")\n",
    "print(f\"Price 03 is {price3:.2f}\")"
   ],
   "id": "8d0b0af8dde312f6",
   "outputs": [
    {
     "name": "stdout",
     "output_type": "stream",
     "text": [
      "Price 01 is 3234.66\n",
      "Price 02 is -9764.466\n",
      "Price 03 is 67.22\n"
     ]
    }
   ],
   "execution_count": 24
  },
  {
   "metadata": {
    "ExecuteTime": {
     "end_time": "2025-02-22T11:54:57.886857Z",
     "start_time": "2025-02-22T11:54:57.884476Z"
    }
   },
   "cell_type": "code",
   "source": [
    "print(f\"Price 01 is ${price1:10}\")\n",
    "print(f\"Price 02 is ${price2:15}\")\n",
    "print(f\"Price 03 is ${price3:15}\")"
   ],
   "id": "b935cfaea382a6f3",
   "outputs": [
    {
     "name": "stdout",
     "output_type": "stream",
     "text": [
      "Price 01 is $3234.657456\n",
      "Price 02 is $     -9764.4658\n",
      "Price 03 is $         67.223\n"
     ]
    }
   ],
   "execution_count": 25
  },
  {
   "metadata": {
    "ExecuteTime": {
     "end_time": "2025-02-22T11:54:58.292147Z",
     "start_time": "2025-02-22T11:54:58.289583Z"
    }
   },
   "cell_type": "code",
   "source": [
    "print(f\"Price 01 is ${price1:010}\")\n",
    "print(f\"Price 02 is ${price2:010}\")\n",
    "print(f\"Price 03 is ${price3:015}\")"
   ],
   "id": "4248b2af0cc73d9f",
   "outputs": [
    {
     "name": "stdout",
     "output_type": "stream",
     "text": [
      "Price 01 is $3234.657456\n",
      "Price 02 is $-9764.4658\n",
      "Price 03 is $00000000067.223\n"
     ]
    }
   ],
   "execution_count": 26
  },
  {
   "metadata": {
    "ExecuteTime": {
     "end_time": "2025-02-22T11:54:58.678431Z",
     "start_time": "2025-02-22T11:54:58.675894Z"
    }
   },
   "cell_type": "code",
   "source": [
    "# Shift to left\n",
    "print(f\"Price 01 is ${price1:<10}\")\n",
    "print(f\"Price 02 is ${price2:<15}\")\n",
    "print(f\"Price 03 is ${price3:<15}\")"
   ],
   "id": "dc6e34e25b6fadb2",
   "outputs": [
    {
     "name": "stdout",
     "output_type": "stream",
     "text": [
      "Price 01 is $3234.657456\n",
      "Price 02 is $-9764.4658     \n",
      "Price 03 is $67.223         \n"
     ]
    }
   ],
   "execution_count": 27
  },
  {
   "metadata": {
    "ExecuteTime": {
     "end_time": "2025-02-22T11:54:59.079309Z",
     "start_time": "2025-02-22T11:54:59.076683Z"
    }
   },
   "cell_type": "code",
   "source": [
    "# Shift to right\n",
    "print(f\"Price 01 is ${price1:>10}\")\n",
    "print(f\"Price 02 is ${price2:>10}\")\n",
    "print(f\"Price 03 is ${price3:>10}\")"
   ],
   "id": "3d14969f6b58bb50",
   "outputs": [
    {
     "name": "stdout",
     "output_type": "stream",
     "text": [
      "Price 01 is $3234.657456\n",
      "Price 02 is $-9764.4658\n",
      "Price 03 is $    67.223\n"
     ]
    }
   ],
   "execution_count": 28
  },
  {
   "metadata": {
    "ExecuteTime": {
     "end_time": "2025-02-22T11:54:59.522544Z",
     "start_time": "2025-02-22T11:54:59.519836Z"
    }
   },
   "cell_type": "code",
   "source": [
    "# Shift to center\n",
    "print(f\"Price 01 is ${price1:^10}\")\n",
    "print(f\"Price 02 is ${price2:^10}\")\n",
    "print(f\"Price 03 is ${price3:^10}\")"
   ],
   "id": "34d32c30b04813df",
   "outputs": [
    {
     "name": "stdout",
     "output_type": "stream",
     "text": [
      "Price 01 is $3234.657456\n",
      "Price 02 is $-9764.4658\n",
      "Price 03 is $  67.223  \n"
     ]
    }
   ],
   "execution_count": 29
  },
  {
   "metadata": {
    "ExecuteTime": {
     "end_time": "2025-02-22T11:55:00.049616Z",
     "start_time": "2025-02-22T11:55:00.047189Z"
    }
   },
   "cell_type": "code",
   "source": [
    "print(f\"Price 01 is ${price1:+}\")\n",
    "print(f\"Price 02 is ${price2:+}\")\n",
    "print(f\"Price 03 is ${price3:+}\")"
   ],
   "id": "ef5f133eec507c59",
   "outputs": [
    {
     "name": "stdout",
     "output_type": "stream",
     "text": [
      "Price 01 is $+3234.657456\n",
      "Price 02 is $-9764.4658\n",
      "Price 03 is $+67.223\n"
     ]
    }
   ],
   "execution_count": 30
  },
  {
   "metadata": {
    "ExecuteTime": {
     "end_time": "2025-02-22T11:55:34.781303Z",
     "start_time": "2025-02-22T11:55:34.778654Z"
    }
   },
   "cell_type": "code",
   "source": [
    "# Thousand seperator\n",
    "print(f\"Price 01 is ${price1:,}\")\n",
    "print(f\"Price 02 is ${price2:,}\")\n",
    "print(f\"Price 03 is ${price3:,}\")"
   ],
   "id": "966917d5e962f91f",
   "outputs": [
    {
     "name": "stdout",
     "output_type": "stream",
     "text": [
      "Price 01 is $3,234.657456\n",
      "Price 02 is $-9,764.4658\n",
      "Price 03 is $67.223\n"
     ]
    }
   ],
   "execution_count": 33
  },
  {
   "metadata": {
    "ExecuteTime": {
     "end_time": "2025-02-22T14:55:36.836593Z",
     "start_time": "2025-02-22T14:55:36.833468Z"
    }
   },
   "cell_type": "code",
   "source": [
    "dictionary = {\"A\": 2, \"B\": 3, \"C\": 4}\n",
    "\n",
    "dictionary.values()"
   ],
   "id": "a7182c0a3a171248",
   "outputs": [
    {
     "data": {
      "text/plain": [
       "dict_values([2, 3, 4])"
      ]
     },
     "execution_count": 3,
     "metadata": {},
     "output_type": "execute_result"
    }
   ],
   "execution_count": 3
  },
  {
   "metadata": {},
   "cell_type": "code",
   "outputs": [],
   "execution_count": null,
   "source": "",
   "id": "b8f2b08d09e09092"
  }
 ],
 "metadata": {
  "kernelspec": {
   "display_name": "Python 3",
   "language": "python",
   "name": "python3"
  },
  "language_info": {
   "codemirror_mode": {
    "name": "ipython",
    "version": 2
   },
   "file_extension": ".py",
   "mimetype": "text/x-python",
   "name": "python",
   "nbconvert_exporter": "python",
   "pygments_lexer": "ipython2",
   "version": "2.7.6"
  }
 },
 "nbformat": 4,
 "nbformat_minor": 5
}
